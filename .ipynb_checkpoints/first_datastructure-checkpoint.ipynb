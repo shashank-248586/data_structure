{
 "cells": [
  {
   "cell_type": "code",
   "execution_count": 1,
   "metadata": {},
   "outputs": [
    {
     "name": "stdout",
     "output_type": "stream",
     "text": [
      "nohtyp ni emmargorp tsrif ym si sihT\n"
     ]
    }
   ],
   "source": [
    "#01\n",
    "#code for reverse a string\n",
    "#Let's define a string\n",
    "s=\"This is my first programme in python\"\n",
    "s_reversed=s[::-1]\n",
    "print(s_reversed)"
   ]
  },
  {
   "cell_type": "code",
   "execution_count": 2,
   "metadata": {},
   "outputs": [
    {
     "name": "stdout",
     "output_type": "stream",
     "text": [
      "The total number of voules in string  11\n"
     ]
    }
   ],
   "source": [
    "#02\n",
    "#code for count the number of voules in a string\n",
    "#Let's define a string\n",
    "s_1=\"Our education system is good\"\n",
    "voules=[\"a\",\"e\",\"i\",\"o\",\"u\",\"A\",\"E\",\"I\",\"O\",\"U\"]\n",
    "count=0\n",
    "for a in s_1:\n",
    "    if(a in voules):\n",
    "        count +=1\n",
    "\n",
    "print(\"The total number of voules in string \",(count))"
   ]
  },
  {
   "cell_type": "code",
   "execution_count": 3,
   "metadata": {},
   "outputs": [
    {
     "name": "stdout",
     "output_type": "stream",
     "text": [
      "This string is a palindrom\n"
     ]
    }
   ],
   "source": [
    "#03\n",
    "#code for check if a given string is a palindrom or not \n",
    "#Let's define a string\n",
    "s_2=\"racecar\"\n",
    "if (s_2[::-1]==s_2):\n",
    "    print(\"This string is a palindrom\")\n",
    "\n",
    "else:\n",
    "    print(\"This string not is a palindrom\")"
   ]
  },
  {
   "cell_type": "code",
   "execution_count": 4,
   "metadata": {},
   "outputs": [
    {
     "name": "stdout",
     "output_type": "stream",
     "text": [
      "triangle  and  integral  are anagram of each other \n"
     ]
    }
   ],
   "source": [
    "#04\n",
    "#code for check if two given strings are anagrams of each other\n",
    "#lets define 2 strings \n",
    "s_4_1=\"triangle\"\n",
    "s_4_2=\"integral\"\n",
    "count=0\n",
    "if (len(s_4_1)==len(s_4_2)):\n",
    "    for n in s_4_1:\n",
    "        if(n in s_4_2):\n",
    "            count +=1\n",
    "if(count==len(s_4_1)):\n",
    "    print(s_4_1,\" and \",s_4_2,\" are anagram of each other \")\n",
    "\n",
    "else:\n",
    "    print(s_4_1,\" and \",s_4_2,\" are not anagram of each other \")\n"
   ]
  },
  {
   "cell_type": "code",
   "execution_count": 5,
   "metadata": {},
   "outputs": [
    {
     "name": "stdout",
     "output_type": "stream",
     "text": [
      "The marked substring in original string :-  ar (car) her(car)irt dcg (car) jihecafhe (car) and repeted 4 times\n"
     ]
    }
   ],
   "source": [
    "#05\n",
    "#code for find all occurrance of a given substring within another string \n",
    "main_str=\"ar car hercarirt dcg car jihecafhe car\"\n",
    "sub_str=\"car\"\n",
    "t_1=main_str.replace(\"car\",\"*\")\n",
    "t_2=main_str.replace(\"*\",\"\")\n",
    "count=0\n",
    "for a in t_1:\n",
    "    if (\"*\" == a):\n",
    "        count +=1\n",
    "\n",
    "print(\"The marked substring in original string :- \",t_1.replace(\"*\",\"(car)\"),\"and repeted 4 times\")"
   ]
  },
  {
   "cell_type": "code",
   "execution_count": 6,
   "metadata": {},
   "outputs": [
    {
     "name": "stdout",
     "output_type": "stream",
     "text": [
      "h -> 9  a -> 3  l -> 5  b -> 6  f -> 4  o -> 6  e -> 3  i -> 4  g -> 1  v -> 3  p -> 2  9 -> 1  - -> 2  1 -> 1  0 -> 1  u -> 1  "
     ]
    }
   ],
   "source": [
    "#06\n",
    "#code for string compression using the counts of repeted characters\n",
    "r_str=\"hhalbfooalbohaeohliohlehgevbihfifhvbplhpfbivbo9-10u-\"\n",
    "d={}\n",
    "for a in r_str:\n",
    "    if (a not in d.keys()):\n",
    "        d [a]=1\n",
    "\n",
    "    else:\n",
    "        d[a] +=1\n",
    "for x in d:\n",
    "    print(x,\"->\",d[x],\" \",end=(\"\"))"
   ]
  },
  {
   "cell_type": "code",
   "execution_count": 7,
   "metadata": {},
   "outputs": [
    {
     "name": "stdout",
     "output_type": "stream",
     "text": [
      "String has all unique character\n"
     ]
    }
   ],
   "source": [
    "#06\n",
    "#code for determining if a string has all unique characters\n",
    "#lets difine a string \n",
    "s=\"dkit_gu\"\n",
    "count =0\n",
    "flag=True\n",
    "for x in s:\n",
    "    for y in s:\n",
    "        if(x==y):\n",
    "            count +=1\n",
    "    if(count>1):\n",
    "        flag = False\n",
    "        break\n",
    "    count=0\n",
    "if(flag==True):\n",
    "    print(\"String has all unique character\")\n",
    "\n",
    "else:\n",
    "    print(\"String has not all unique character\")"
   ]
  },
  {
   "cell_type": "code",
   "execution_count": 8,
   "metadata": {},
   "outputs": [
    {
     "name": "stdout",
     "output_type": "stream",
     "text": [
      "I AM A GOOD STUDENT\n",
      "i am a good student\n"
     ]
    }
   ],
   "source": [
    "#08\n",
    "#code for convert a string into upper case or lower case\n",
    "s=\"i am a good student\"\n",
    "print(s.upper())\n",
    "print(s.lower())"
   ]
  },
  {
   "cell_type": "code",
   "execution_count": 9,
   "metadata": {},
   "outputs": [
    {
     "name": "stdout",
     "output_type": "stream",
     "text": [
      "The numer of words in ( To provide a term deposit scheme with differential rete to senior citizens. ) is  12\n"
     ]
    }
   ],
   "source": [
    "#09\n",
    "#code for counting words in a string \n",
    "my_str=\"To provide a term deposit scheme with differential rete to senior citizens.\"\n",
    "print(\"The numer of words in (\" ,my_str,\") is \",len(my_str.split(\" \")))"
   ]
  },
  {
   "cell_type": "code",
   "execution_count": 10,
   "metadata": {},
   "outputs": [
    {
     "name": "stdout",
     "output_type": "stream",
     "text": [
      "This is My first programing\n"
     ]
    }
   ],
   "source": [
    "#10\n",
    "#code for concate of 2 strinfg using + operator\n",
    "s_1=\"This is \"\n",
    "s_2=\"My first programing\"\n",
    "print(s_1+s_2)"
   ]
  },
  {
   "cell_type": "code",
   "execution_count": 11,
   "metadata": {},
   "outputs": [
    {
     "name": "stdout",
     "output_type": "stream",
     "text": [
      "[3, 1, 4, 6, 9, 2, 7]\n"
     ]
    }
   ],
   "source": [
    "#11\n",
    "#code for remove all occurrences of a specific element from a list \n",
    "#lets define a list \n",
    "l=[1,3,6,1,4,6,9,2,7]\n",
    "for a in l:\n",
    "    if(l.count(a)>1):\n",
    "        l.remove(a)\n",
    "print(l)"
   ]
  },
  {
   "cell_type": "code",
   "execution_count": 12,
   "metadata": {},
   "outputs": [
    {
     "name": "stdout",
     "output_type": "stream",
     "text": [
      "The second larggest number in list is 87\n"
     ]
    }
   ],
   "source": [
    "#12\n",
    "#code for find secound largest number in a list\n",
    "l=[11,96,56,87,36,85,24,69,32,45]\n",
    "b=l.copy()\n",
    "a=max(b)\n",
    "b.remove(a)\n",
    "print(\"The second larggest number in list is\",max(b))"
   ]
  },
  {
   "cell_type": "code",
   "execution_count": 13,
   "metadata": {},
   "outputs": [
    {
     "data": {
      "text/plain": [
       "{4: 3, 5: 4, 3: 2, 6: 2, 2: 1, 7: 1, 1: 1}"
      ]
     },
     "execution_count": 13,
     "metadata": {},
     "output_type": "execute_result"
    }
   ],
   "source": [
    "#13\n",
    "#code for counting cccurrences of each element in a list and return a distinary with keys are element and values are number of repetation\n",
    "l2=[4,5,4,3,6,5,2,7,1,4,5,3,5,6]\n",
    "d={}\n",
    "for a in l2:\n",
    "    if (a not in d.keys()):\n",
    "        d [a]=1\n",
    "\n",
    "    else:\n",
    "        d[a] +=1\n",
    "d"
   ]
  },
  {
   "cell_type": "code",
   "execution_count": 14,
   "metadata": {},
   "outputs": [
    {
     "name": "stdout",
     "output_type": "stream",
     "text": [
      "[94, 48, 15, 75, 34, 69, 75, 65, 48, 11]\n"
     ]
    }
   ],
   "source": [
    "#14 \n",
    "#code for reversing a list without using build in function\n",
    "l_1=[11,48,65,75,69,34,75,15,48,94]\n",
    "l_rev=l_1[::-1]\n",
    "print(l_rev)"
   ]
  },
  {
   "cell_type": "code",
   "execution_count": 15,
   "metadata": {},
   "outputs": [
    {
     "name": "stdout",
     "output_type": "stream",
     "text": [
      "[4, 5, 3, 6, 2, 7, 1, 8, 9]\n"
     ]
    }
   ],
   "source": [
    "#15\n",
    "#code for remove duplicate values from a list without changing its order\n",
    "l=[4,5,4,3,6,5,2,7,1,4,5,3,5,6,5,8,3,7,5,9]\n",
    "ltest=[]\n",
    "for a in l:\n",
    "    if(a not in ltest):\n",
    "        ltest.append(a)\n",
    "print(ltest)"
   ]
  },
  {
   "cell_type": "code",
   "execution_count": 16,
   "metadata": {},
   "outputs": [
    {
     "name": "stdout",
     "output_type": "stream",
     "text": [
      "Increasing \n"
     ]
    }
   ],
   "source": [
    "#16\n",
    "#code for check wheather a list is sorted or not (either in assending or desending)\n",
    "l=[2,2,4,9,11,15,21,21,21]\n",
    "\n",
    "a=0\n",
    "p=0\n",
    "for i in range(len(l)-1):\n",
    "    if(l[i]>l[i+1]):\n",
    "        a+=1\n",
    "    elif(l[i]<l[i+1]):\n",
    "        a-=1\n",
    "    else:\n",
    "        p+=1\n",
    "        if(a>0):\n",
    "            a+=1\n",
    "        if(a<0):\n",
    "            a-=1\n",
    "if(a>0):\n",
    "    a=a+p+1\n",
    "if(a<0):\n",
    "    a=a-p+1\n",
    "if(a==len(l)+1):\n",
    "    print(\"Decrising\")\n",
    "elif(a==(-1)*len(l)):\n",
    "    print(\"Increasing \")\n",
    "else:\n",
    "    print(\"Not sorted\")\n"
   ]
  },
  {
   "cell_type": "code",
   "execution_count": 17,
   "metadata": {},
   "outputs": [
    {
     "name": "stdout",
     "output_type": "stream",
     "text": [
      "Sorted list  [1, 2, 4, 4, 5, 6, 8, 8, 9, 13, 18]\n"
     ]
    }
   ],
   "source": [
    "#17\n",
    "#code for merge two shorted list into a shorted list \n",
    "l_1=[1,4,5,8,9,13,18]\n",
    "l_2=[8,6,4,2]\n",
    "l_1.extend(l_2)\n",
    "l_1.sort()\n",
    "print(\"Sorted list \",l_1)\n"
   ]
  },
  {
   "cell_type": "code",
   "execution_count": 18,
   "metadata": {},
   "outputs": [
    {
     "name": "stdout",
     "output_type": "stream",
     "text": [
      "The intersection elements are [5, 6]\n"
     ]
    }
   ],
   "source": [
    "#18\n",
    "#code for intersection of two lists\n",
    "a=[2,5,3,2,8,6,7,5]\n",
    "b=[4,5,6,9,4]\n",
    "intersec=[]\n",
    "for p in a:\n",
    "    if(p in b)&(p not in intersec):\n",
    "        intersec.append(p)\n",
    "for p in b:\n",
    "    if(p in a)&(p not in intersec):\n",
    "        intersec.append(p)\n",
    "print(\"The intersection elements are\",intersec)"
   ]
  },
  {
   "cell_type": "code",
   "execution_count": 19,
   "metadata": {},
   "outputs": [
    {
     "name": "stdout",
     "output_type": "stream",
     "text": [
      "The union of two list are  [1, 2, 5, 7, 6, 9, 8, 4, 3]\n"
     ]
    }
   ],
   "source": [
    "#19\n",
    "#code for union of two lists without repetet vaalue \n",
    "list_1=[1,2,5,7,6,9,8,7]\n",
    "list_2=[8,8,9,6,8,4,8,3,4,1,8]\n",
    "union=list_1+list_2\n",
    "ltest=[]\n",
    "for a in union:\n",
    "    if(a not in ltest):\n",
    "        ltest.append(a)\n",
    "print(\"The union of two list are \",ltest)"
   ]
  },
  {
   "cell_type": "code",
   "execution_count": 20,
   "metadata": {},
   "outputs": [
    {
     "name": "stdout",
     "output_type": "stream",
     "text": [
      "Suffel list is  [54, 25, 42, 14, 69, 87, 2, 84, 15, 58, 52, 76, 15]\n"
     ]
    }
   ],
   "source": [
    "#20\n",
    "#code for suffling a list without using buildin function\n",
    "li=[15,52,15,2,69,42,54,25,14,87,84,58,76]\n",
    "lir=[]\n",
    "n=int(len(li)/2)+1\n",
    "for a in range(n):\n",
    "    lir.append(li[a])\n",
    "    lir.append(li[len(li)-a-1])\n",
    "if(len(li)%2==0):\n",
    "    lir.pop()\n",
    "    lir.pop()\n",
    "else:\n",
    "    lir.pop()\n",
    "lir.reverse()\n",
    "print(\"Suffel list is \",(lir))"
   ]
  },
  {
   "cell_type": "code",
   "execution_count": 23,
   "metadata": {},
   "outputs": [
    {
     "name": "stdin",
     "output_type": "stream",
     "text": [
      "Enter the first elements of tuple separated by comma 1,2,3,4,5,6\n",
      "Enter the second elements of tuple separated by comma 4,5,6,7,8\n"
     ]
    },
    {
     "name": "stdout",
     "output_type": "stream",
     "text": [
      "(4, 5, 6)\n"
     ]
    }
   ],
   "source": [
    "#21\n",
    "#code for that two tupples as input and returns a new tupples containing commen element in both tupples\n",
    "element=input(\"Enter the first elements of tuple separated by comma\")\n",
    "list=element.split(\",\")\n",
    "list2=[int(m) for m in list]\n",
    "t1=tuple(list2)\n",
    "element=input(\"Enter the second elements of tuple separated by comma\")\n",
    "list=element.split(\",\")\n",
    "list2=[int(m) for m in list]\n",
    "t2=tuple(list2)\n",
    "intersec=[]\n",
    "for p in t1:\n",
    "    if(p in t2)&(p not in intersec):\n",
    "        intersec.append(p)\n",
    "for p in t2:\n",
    "    if(p in t1)&(p not in intersec):\n",
    "        intersec.append(p)\n",
    "print(tuple(intersec))\n"
   ]
  },
  {
   "cell_type": "code",
   "execution_count": 24,
   "metadata": {},
   "outputs": [
    {
     "name": "stdin",
     "output_type": "stream",
     "text": [
      "Enter the first elements of tuple separated by comma 1,2,3,4,5,6\n",
      "Enter the second elements of tuple separated by comma 5,6,7,8\n"
     ]
    },
    {
     "data": {
      "text/plain": [
       "{5, 6}"
      ]
     },
     "execution_count": 24,
     "metadata": {},
     "output_type": "execute_result"
    }
   ],
   "source": [
    "#22\n",
    "#code for enter two sets of integer and print their intersection\n",
    "element=input(\"Enter the first elements of tuple separated by comma\")\n",
    "list=element.split(\",\")\n",
    "list2=[int(m) for m in list]\n",
    "t1=set(list2)\n",
    "element=input(\"Enter the second elements of tuple separated by comma\")\n",
    "list=element.split(\",\")\n",
    "list2=[int(m) for m in list]\n",
    "t2=set(list2)\n",
    "intersec=[]\n",
    "for p in t1:\n",
    "    if(p in t2)&(p not in intersec):\n",
    "        intersec.append(p)\n",
    "for p in t2:\n",
    "    if(p in t1)&(p not in intersec):\n",
    "        intersec.append(p)\n",
    "set(intersec)"
   ]
  },
  {
   "cell_type": "code",
   "execution_count": 25,
   "metadata": {},
   "outputs": [
    {
     "name": "stdin",
     "output_type": "stream",
     "text": [
      "Enter the first elements of tuple separated by comma 2,3,4,5,6\n",
      "Enter the second elements of tuple separated by comma 5,6,8,9\n"
     ]
    },
    {
     "name": "stdout",
     "output_type": "stream",
     "text": [
      "(2, 3, 4, 5, 6, 5, 6, 8, 9)\n"
     ]
    }
   ],
   "source": [
    "#23\n",
    "#code for concatate two tuple which input from user\n",
    "element=input(\"Enter the first elements of tuple separated by comma\")\n",
    "list=element.split(\",\")\n",
    "list2=[int(m) for m in list]\n",
    "t1=tuple(list2)\n",
    "element=input(\"Enter the second elements of tuple separated by comma\")\n",
    "list=element.split(\",\")\n",
    "list2=[int(m) for m in list]\n",
    "t2=tuple(list2)\n",
    "result=t1+t2\n",
    "print(result)"
   ]
  },
  {
   "cell_type": "code",
   "execution_count": 26,
   "metadata": {},
   "outputs": [
    {
     "name": "stdin",
     "output_type": "stream",
     "text": [
      "Enter the first string udhefgufi\n",
      "Enter the secound string fuaigier\n"
     ]
    },
    {
     "name": "stdout",
     "output_type": "stream",
     "text": [
      "string 1 difference 2 is  {'d', 'h'}\n"
     ]
    }
   ],
   "source": [
    "#24\n",
    "#code for perform string differences\n",
    "s1=input(\"Enter the first string\")\n",
    "s2=input(\"Enter the secound string\")\n",
    "se1=set(s1)\n",
    "se2=set(s2)\n",
    "print(\"string 1 difference 2 is \",se1-se2)"
   ]
  },
  {
   "cell_type": "code",
   "execution_count": 28,
   "metadata": {},
   "outputs": [
    {
     "name": "stdin",
     "output_type": "stream",
     "text": [
      "Enter the first numbers of tuple separated by comma 1,2,3,4,5,6\n",
      "Enter lower range  2\n",
      "Enter upper range  5\n"
     ]
    },
    {
     "name": "stdout",
     "output_type": "stream",
     "text": [
      "(2, 3, 4)\n"
     ]
    }
   ],
   "source": [
    "#25\n",
    "#code for one tuple and two number as input and show tuple containig \n",
    "#original tuple within specifid range\n",
    "element=input(\"Enter the first numbers of tuple separated by comma\")\n",
    "list=element.split(\",\")\n",
    "list2=[int(m) for m in list]\n",
    "t1=tuple(list2)\n",
    "a=int(input(\"Enter lower range \"))\n",
    "b=int(input(\"Enter upper range \"))\n",
    "ran=[]\n",
    "for m in t1:\n",
    "    if(m<b)&(m>=a):\n",
    "        ran.append(m)\n",
    "resu=tuple(ran)\n",
    "print(resu)"
   ]
  },
  {
   "cell_type": "code",
   "execution_count": 20,
   "metadata": {},
   "outputs": [
    {
     "name": "stdout",
     "output_type": "stream",
     "text": [
      "Enter the first string nob\n",
      "Enter the secound string knob'\n",
      "string union  is  {'k', 'b', 'o', 'n', \"'\"}\n"
     ]
    }
   ],
   "source": [
    "#26\n",
    "#code for perform string union\n",
    "s1=input(\"Enter the first string\")\n",
    "s2=input(\"Enter the secound string\")\n",
    "se1=set(s1)\n",
    "se2=set(s2)\n",
    "print(\"string union  is \",se1|se2)"
   ]
  },
  {
   "cell_type": "code",
   "execution_count": 23,
   "metadata": {},
   "outputs": [
    {
     "name": "stdout",
     "output_type": "stream",
     "text": [
      "Enter the numbers of tuple separated by comma 2,6,8,9,6\n",
      "(2, 6, 8, 9, 6)\n",
      "The maximum element is 9 The minimum element is 2\n"
     ]
    }
   ],
   "source": [
    "#27\n",
    "#code for tuple of integer as input and return maximum and minimum value using\n",
    "#unpacking of tuple\n",
    "element=input(\"Enter the numbers of tuple separated by comma\")\n",
    "list=element.split(\",\")\n",
    "list2=[int(m) for m in list]\n",
    "t1=tuple(list2)\n",
    "print(t1)\n",
    "print(\"The maximum element is\",max(list2),\"The minimum element is\",min(list2))"
   ]
  },
  {
   "cell_type": "code",
   "execution_count": 24,
   "metadata": {},
   "outputs": [
    {
     "name": "stdout",
     "output_type": "stream",
     "text": [
      "Enter the first string nxiwjobxlqawx\n",
      "Enter the secound string  xjnowo xwwos\n",
      "string union  is  {'l', 'a', 'b', 'o', 'n', 's', 'w', ' ', 'i', 'j', 'x', 'q'}\n",
      "string intersection is  {'o', 'n', 'w', 'j', 'x'}\n",
      "string 1 difference 2 is  {'l', 'a', 'b', 'i', 'q'}\n",
      "string 2 difference 1 is  {' ', 's'}\n"
     ]
    }
   ],
   "source": [
    "#28\n",
    "#code for perform set of characters operations\n",
    "s1=input(\"Enter the first string\")\n",
    "s2=input(\"Enter the secound string\")\n",
    "se1=set(s1)\n",
    "se2=set(s2)\n",
    "print(\"string union  is \",se1|se2)\n",
    "print(\"string intersection is \",se1&se2)\n",
    "print(\"string 1 difference 2 is \",se1-se2)\n",
    "print(\"string 2 difference 1 is \",se2-se1)"
   ]
  },
  {
   "cell_type": "code",
   "execution_count": 26,
   "metadata": {},
   "outputs": [
    {
     "name": "stdout",
     "output_type": "stream",
     "text": [
      "Enter the numbers of tuple separated by comma 1,1,1,2\n",
      "Enter the number which to be couted 1\n"
     ]
    },
    {
     "data": {
      "text/plain": [
       "3"
      ]
     },
     "execution_count": 26,
     "metadata": {},
     "output_type": "execute_result"
    }
   ],
   "source": [
    "#29\n",
    "element=input(\"Enter the numbers of tuple separated by comma\")\n",
    "list=element.split(\",\")\n",
    "list2=[int(m) for m in list]\n",
    "t1=tuple(list2)\n",
    "a=int(input(\"Enter the number which to be couted\"))\n",
    "count=0\n",
    "for l in t1:\n",
    "    if (a ==l):\n",
    "        count +=1\n",
    "count"
   ]
  },
  {
   "cell_type": "code",
   "execution_count": 28,
   "metadata": {},
   "outputs": [
    {
     "name": "stdout",
     "output_type": "stream",
     "text": [
      "Enter the first string asdfg\n",
      "Enter the secound string dfghj\n"
     ]
    },
    {
     "data": {
      "text/plain": [
       "{'a', 'h', 'j', 's'}"
      ]
     },
     "execution_count": 28,
     "metadata": {},
     "output_type": "execute_result"
    }
   ],
   "source": [
    "#30\n",
    "#code for perform symmetric differences of two set of characters\n",
    "s1=input(\"Enter the first string\")\n",
    "s2=input(\"Enter the secound string\")\n",
    "a=set(s1)\n",
    "b=set(s2)\n",
    "(a|b)-(a&b)"
   ]
  },
  {
   "cell_type": "code",
   "execution_count": 29,
   "metadata": {},
   "outputs": [
    {
     "name": "stdout",
     "output_type": "stream",
     "text": [
      "Enters wordes separated by speces fgh fgh hj hj\n"
     ]
    },
    {
     "data": {
      "text/plain": [
       "{'fgh': 2, 'hj': 2}"
      ]
     },
     "execution_count": 29,
     "metadata": {},
     "output_type": "execute_result"
    }
   ],
   "source": [
    "#31\n",
    "#code for input wordes and make a distinary whose keys are words and valus are frequencies\n",
    "l=input(\"Enters wordes separated by speces\")\n",
    "l2=l.split(\" \")\n",
    "d={}\n",
    "for a in l2:\n",
    "    if (a not in d.keys()):\n",
    "        d [a]=1\n",
    "\n",
    "    else:\n",
    "        d[a] +=1\n",
    "d"
   ]
  },
  {
   "cell_type": "code",
   "execution_count": null,
   "metadata": {},
   "outputs": [
    {
     "name": "stdout",
     "output_type": "stream",
     "text": [
      "Enter the numer of entries 4\n",
      "Enter keys of sd\n"
     ]
    }
   ],
   "source": [
    "#32\n",
    "#code for 2 distionary as input and merge them in a single distionary if there are commen keys then values shoud be added\n",
    "d1={}\n",
    "n=int(input(\"Enter the numer of entries\"))\n",
    "for g in range(n):\n",
    "    ke=input(\"Enter keys of\")\n",
    "    val=input(\"Enter the values\")\n",
    "    if(val.isdigit()==true):\n",
    "        val=int(val)\n"
   ]
  },
  {
   "cell_type": "code",
   "execution_count": 33,
   "metadata": {},
   "outputs": [
    {
     "name": "stdin",
     "output_type": "stream",
     "text": [
      "Enter the numer of entries 2\n",
      "Enter keys of d\n",
      "Enter the values 12\n",
      "Enter keys of e\n",
      "Enter the values 23\n",
      "Enter the numer of entries 2\n",
      "Enter keys of d\n",
      "Enter the values 13\n",
      "Enter keys of r\n",
      "Enter the values t\n"
     ]
    },
    {
     "data": {
      "text/plain": [
       "{'d': 25, 'e': 23, 'r': 't'}"
      ]
     },
     "execution_count": 33,
     "metadata": {},
     "output_type": "execute_result"
    }
   ],
   "source": [
    "#32\n",
    "#code for joint two distionary if commen key present then values should be added\n",
    "d1={}\n",
    "n=int(input(\"Enter the numer of entries\"))\n",
    "for g in range(n):\n",
    "    ke=input(\"Enter keys of\")\n",
    "    val=input(\"Enter the values\")\n",
    "    if(val.isdigit()==True):\n",
    "        val=int(val)\n",
    "    d1[ke]=val\n",
    "d2={}\n",
    "n=int(input(\"Enter the numer of entries\"))\n",
    "for g in range(n):\n",
    "    ke=input(\"Enter keys of\")\n",
    "    val=input(\"Enter the values\")\n",
    "    if(val.isdigit()==True):\n",
    "        val=int(val)\n",
    "    d2[ke]=val\n",
    "dres=d1\n",
    "for n in d2:\n",
    "    if(n in dres):\n",
    "        dres[n]=dres[n]+d2[n]\n",
    "    else:\n",
    "        dres[n]=d2[n]\n",
    "dres"
   ]
  },
  {
   "cell_type": "code",
   "execution_count": 32,
   "metadata": {},
   "outputs": [
    {
     "name": "stdin",
     "output_type": "stream",
     "text": [
      "Enter the numer of entries 2\n",
      " java\n",
      " php\n"
     ]
    },
    {
     "name": "stdout",
     "output_type": "stream",
     "text": [
      "{'duration': '4months', 'fees': 5200}\n",
      "{'duration': '2months', 'fees': 1500}\n"
     ]
    }
   ],
   "source": [
    "#33\n",
    "#code for access a nested distionary and take a list of keys as input and print the values coresponding to it\n",
    "d={\"php\":{\"duration\":\"2months\",\"fees\":1500},\n",
    "   \"python\":{\"duration\":\"3months\",\"fees\":3500},\n",
    "   \"java\":{\"duration\":\"4months\",\"fees\":5200}}\n",
    "n=int(input(\"Enter the numer of entries\"))\n",
    "inp_lis=[]\n",
    "for m in range(n):\n",
    "    inp_lis.append(input())\n",
    "for a in inp_lis:\n",
    "    print(d[a])"
   ]
  },
  {
   "cell_type": "code",
   "execution_count": 34,
   "metadata": {},
   "outputs": [
    {
     "name": "stdout",
     "output_type": "stream",
     "text": [
      "{4: 2, 9: 3, 16: 4, 25: 5}\n"
     ]
    }
   ],
   "source": [
    "#35\n",
    "#code for swap key and value\n",
    "d1={2:4,3:9,4:16,5:25}\n",
    "d2={}\n",
    "for i,j in d1.items():\n",
    "    d2.update({j:i})\n",
    "print(d2)"
   ]
  },
  {
   "cell_type": "code",
   "execution_count": null,
   "metadata": {},
   "outputs": [],
   "source": []
  }
 ],
 "metadata": {
  "kernelspec": {
   "display_name": "Python 3 (ipykernel)",
   "language": "python",
   "name": "python3"
  },
  "language_info": {
   "codemirror_mode": {
    "name": "ipython",
    "version": 3
   },
   "file_extension": ".py",
   "mimetype": "text/x-python",
   "name": "python",
   "nbconvert_exporter": "python",
   "pygments_lexer": "ipython3",
   "version": "3.10.8"
  }
 },
 "nbformat": 4,
 "nbformat_minor": 4
}
